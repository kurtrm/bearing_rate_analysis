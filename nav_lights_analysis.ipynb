{
 "cells": [
  {
   "cell_type": "code",
   "execution_count": 1,
   "metadata": {
    "collapsed": true
   },
   "outputs": [],
   "source": [
    "# Set up.\n",
    "\n",
    "import numpy as np\n",
    "import pandas as pd\n",
    "import matplotlib.pyplot as plt\n",
    "\n",
    "from IPython.core.interactiveshell import InteractiveShell\n",
    "InteractiveShell.ast_node_interactivity = 'all'\n",
    "\n",
    "%load_ext autoreload\n",
    "%autoreload 2"
   ]
  },
  {
   "cell_type": "markdown",
   "metadata": {},
   "source": [
    "As annotated in the README, determining course and speed of ships using bearings only simply isn't possible. This is already pretty well documented, but even trying to apply machine learning algorithms results in way too many ambiguous solutions."
   ]
  },
  {
   "cell_type": "markdown",
   "metadata": {
    "collapsed": true
   },
   "source": [
    "I will have to make some of the images myself. I'm going to make a list of colors that I'll need.\n",
    "\n",
    "I found a diagram of light orientations that I'm going to use."
   ]
  },
  {
   "cell_type": "code",
   "execution_count": 2,
   "metadata": {
    "collapsed": true
   },
   "outputs": [],
   "source": [
    "targets = np.array(['Power-driven vessel underway (>50m in length) (starboard)',\n",
    "                    'Power-driven vessel underway (>50m in length) (port)',\n",
    "                    'Power-driven vessel underway (>50m in length) (stern)',\n",
    "                    'Power-driven vessel underway (>50m in length) (bow)',\n",
    "                    'Power-driven vessel underway (<50m in length) (starboard)',\n",
    "                    'Power-driven vessel underway (<50m in length) (port)',\n",
    "                    'Power-driven vessel underway (<50m in length) (stern)',\n",
    "                    'Power-driven vessel underway (<50m in length) (bow)',\n",
    "                    'Power-driven vessel underway (<12m in length) (starboard)',\n",
    "                    'Power-driven vessel underway (<12m in length) (port)',\n",
    "                    'Power-driven vessel underway (<12m in length) (stern)',\n",
    "                    'Power-driven vessel underway (<12m in length) (bow)',\n",
    "                    'Power-driven vessel underway (<7m in length) (starboard)',\n",
    "                    'Power-driven vessel underway (<7m in length) (port)',\n",
    "                    'Power-driven vessel underway (<7m in length) (stern)',\n",
    "                    'Power-driven vessel underway (<7m in length) (bow)'], dtype=np.dtype('unicode_'))"
   ]
  },
  {
   "cell_type": "code",
   "execution_count": 3,
   "metadata": {},
   "outputs": [],
   "source": [
    "colors = np.array([[(255, 0, 0), (255, 255, 255), (0, 255, 0)],\n",
    "                [(0, 0, 0), (255, 255, 0), (0, 0, 0)]], dtype=np.uint8)"
   ]
  },
  {
   "cell_type": "code",
   "execution_count": 4,
   "metadata": {},
   "outputs": [],
   "source": [
    "black = [[(0, 0, 0) for _ in range(255)] for _ in range(255)]"
   ]
  },
  {
   "cell_type": "code",
   "execution_count": 5,
   "metadata": {},
   "outputs": [],
   "source": [
    "black_array = np.array(black, dtype=np.uint8)"
   ]
  },
  {
   "cell_type": "code",
   "execution_count": 6,
   "metadata": {},
   "outputs": [],
   "source": [
    "black_array[100:131, 100:131] = (0, 0, 0)"
   ]
  },
  {
   "cell_type": "code",
   "execution_count": 7,
   "metadata": {},
   "outputs": [
    {
     "data": {
      "image/png": "[encoded data removed]",
      "text/plain": [
       "<matplotlib.figure.Figure at 0x29dc34ab5c0>"
      ]
     },
     "metadata": {},
     "output_type": "display_data"
    }
   ],
   "source": [
    "plt.imshow(black_array)\n",
    "plt.show();"
   ]
  },
  {
   "cell_type": "code",
   "execution_count": null,
   "metadata": {
    "collapsed": true
   },
   "outputs": [],
   "source": []
  }
 ],
 "metadata": {
  "kernelspec": {
   "display_name": "Python 3",
   "language": "python",
   "name": "python3"
  },
  "language_info": {
   "codemirror_mode": {
    "name": "ipython",
    "version": 3
   },
   "file_extension": ".py",
   "mimetype": "text/x-python",
   "name": "python",
   "nbconvert_exporter": "python",
   "pygments_lexer": "ipython3",
   "version": "3.6.3"
  }
 },
 "nbformat": 4,
 "nbformat_minor": 2
}
