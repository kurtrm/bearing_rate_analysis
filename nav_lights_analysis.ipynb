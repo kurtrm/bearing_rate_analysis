{
 "cells": [
  {
   "cell_type": "code",
   "execution_count": 30,
   "metadata": {},
   "outputs": [
    {
     "name": "stdout",
     "output_type": "stream",
     "text": [
      "The autoreload extension is already loaded. To reload it, use:\n",
      "  %reload_ext autoreload\n"
     ]
    }
   ],
   "source": [
    "# Set up.\n",
    "\n",
    "import numpy as np\n",
    "import pandas as pd\n",
    "import matplotlib.pyplot as plt\n",
    "\n",
    "from IPython.core.interactiveshell import InteractiveShell\n",
    "InteractiveShell.ast_node_interactivity = 'all'\n",
    "\n",
    "np.random.seed(42)\n",
    "\n",
    "%load_ext autoreload\n",
    "%autoreload 2"
   ]
  },
  {
   "cell_type": "markdown",
   "metadata": {},
   "source": [
    "As annotated in the README, determining course and speed of ships using bearings only simply isn't possible. This is already pretty well documented, but even trying to apply machine learning algorithms results in way too many ambiguous solutions."
   ]
  },
  {
   "cell_type": "markdown",
   "metadata": {
    "collapsed": true
   },
   "source": [
    "I will have to make some of the images myself. I'm going to make a list of colors that I'll need.\n",
    "\n",
    "I found a diagram of light orientations that I'm going to use."
   ]
  },
  {
   "cell_type": "code",
   "execution_count": 2,
   "metadata": {
    "collapsed": true
   },
   "outputs": [],
   "source": [
    "targets = np.array(['Power-driven vessel underway (>50m in length) (starboard)',\n",
    "                    'Power-driven vessel underway (>50m in length) (port)',\n",
    "                    'Power-driven vessel underway (>50m in length) (stern)',\n",
    "                    'Power-driven vessel underway (>50m in length) (bow)',\n",
    "                    'Power-driven vessel underway (<50m in length) (starboard)',\n",
    "                    'Power-driven vessel underway (<50m in length) (port)',\n",
    "                    'Power-driven vessel underway (<50m in length) (stern)',\n",
    "                    'Power-driven vessel underway (<50m in length) (bow)',\n",
    "                    'Power-driven vessel underway (<12m in length) (starboard)',\n",
    "                    'Power-driven vessel underway (<12m in length) (port)',\n",
    "                    'Power-driven vessel underway (<12m in length) (stern)',\n",
    "                    'Power-driven vessel underway (<12m in length) (bow)',\n",
    "                    'Power-driven vessel underway (<7m in length) (starboard)',\n",
    "                    'Power-driven vessel underway (<7m in length) (port)',\n",
    "                    'Power-driven vessel underway (<7m in length) (stern)',\n",
    "                    'Power-driven vessel underway (<7m in length) (bow)'], dtype=np.dtype('unicode_'))"
   ]
  },
  {
   "cell_type": "code",
   "execution_count": 3,
   "metadata": {},
   "outputs": [],
   "source": [
    "colors = np.array([[(255, 0, 0), (255, 255, 255), (0, 255, 0)],\n",
    "                [(0, 0, 0), (255, 255, 0), (0, 0, 0)]], dtype=np.uint8)"
   ]
  },
  {
   "cell_type": "code",
   "execution_count": 4,
   "metadata": {},
   "outputs": [],
   "source": [
    "black = [[(0, 0, 0) for _ in range(255)] for _ in range(255)]"
   ]
  },
  {
   "cell_type": "code",
   "execution_count": 5,
   "metadata": {},
   "outputs": [],
   "source": [
    "black_array = np.array(black, dtype=np.uint8)"
   ]
  },
  {
   "cell_type": "code",
   "execution_count": 6,
   "metadata": {},
   "outputs": [],
   "source": [
    "black_array[100:110, 100:110] = (255, 255, 255)"
   ]
  },
  {
   "cell_type": "code",
   "execution_count": 7,
   "metadata": {},
   "outputs": [
    {
     "data": {
      "text/plain": [
       "(255, 255, 3)"
      ]
     },
     "execution_count": 7,
     "metadata": {},
     "output_type": "execute_result"
    }
   ],
   "source": [
    "black_array.shape"
   ]
  },
  {
   "cell_type": "code",
   "execution_count": 8,
   "metadata": {},
   "outputs": [
    {
     "data": {
      "image/png": "[encoded data removed]",
      "text/plain": [
       "<matplotlib.figure.Figure at 0x2058ca196d8>"
      ]
     },
     "metadata": {},
     "output_type": "display_data"
    }
   ],
   "source": [
    "plt.imshow(black_array)\n",
    "plt.show();"
   ]
  },
  {
   "cell_type": "code",
   "execution_count": 9,
   "metadata": {
    "collapsed": true
   },
   "outputs": [],
   "source": [
    "test_black = np.zeros((255, 255, 3))"
   ]
  },
  {
   "cell_type": "code",
   "execution_count": 10,
   "metadata": {},
   "outputs": [],
   "source": [
    "raveled = np.ravel(test_black)"
   ]
  },
  {
   "cell_type": "code",
   "execution_count": 11,
   "metadata": {},
   "outputs": [
    {
     "data": {
      "text/plain": [
       "array([[[ 0.,  0.,  0.],\n",
       "        [ 0.,  0.,  0.],\n",
       "        [ 0.,  0.,  0.],\n",
       "        ..., \n",
       "        [ 0.,  0.,  0.],\n",
       "        [ 0.,  0.,  0.],\n",
       "        [ 0.,  0.,  0.]],\n",
       "\n",
       "       [[ 0.,  0.,  0.],\n",
       "        [ 0.,  0.,  0.],\n",
       "        [ 0.,  0.,  0.],\n",
       "        ..., \n",
       "        [ 0.,  0.,  0.],\n",
       "        [ 0.,  0.,  0.],\n",
       "        [ 0.,  0.,  0.]],\n",
       "\n",
       "       [[ 0.,  0.,  0.],\n",
       "        [ 0.,  0.,  0.],\n",
       "        [ 0.,  0.,  0.],\n",
       "        ..., \n",
       "        [ 0.,  0.,  0.],\n",
       "        [ 0.,  0.,  0.],\n",
       "        [ 0.,  0.,  0.]],\n",
       "\n",
       "       ..., \n",
       "       [[ 0.,  0.,  0.],\n",
       "        [ 0.,  0.,  0.],\n",
       "        [ 0.,  0.,  0.],\n",
       "        ..., \n",
       "        [ 0.,  0.,  0.],\n",
       "        [ 0.,  0.,  0.],\n",
       "        [ 0.,  0.,  0.]],\n",
       "\n",
       "       [[ 0.,  0.,  0.],\n",
       "        [ 0.,  0.,  0.],\n",
       "        [ 0.,  0.,  0.],\n",
       "        ..., \n",
       "        [ 0.,  0.,  0.],\n",
       "        [ 0.,  0.,  0.],\n",
       "        [ 0.,  0.,  0.]],\n",
       "\n",
       "       [[ 0.,  0.,  0.],\n",
       "        [ 0.,  0.,  0.],\n",
       "        [ 0.,  0.,  0.],\n",
       "        ..., \n",
       "        [ 0.,  0.,  0.],\n",
       "        [ 0.,  0.,  0.],\n",
       "        [ 0.,  0.,  0.]]])"
      ]
     },
     "execution_count": 11,
     "metadata": {},
     "output_type": "execute_result"
    }
   ],
   "source": [
    "raveled.reshape(255, 255, 3)\n",
    "reshaped = raveled.reshape(255, 255, 3)"
   ]
  },
  {
   "cell_type": "code",
   "execution_count": 13,
   "metadata": {},
   "outputs": [
    {
     "data": {
      "image/png": "[encoded data removed]",
      "text/plain": [
       "<matplotlib.figure.Figure at 0x2058e8d2550>"
      ]
     },
     "metadata": {},
     "output_type": "display_data"
    }
   ],
   "source": [
    "plt.imshow(test_black)\n",
    "plt.show();"
   ]
  },
  {
   "cell_type": "code",
   "execution_count": 14,
   "metadata": {
    "collapsed": true
   },
   "outputs": [],
   "source": [
    "def stern_light_array_generator():\n",
    "    \"\"\"\n",
    "    Makes a numpy array of a lot of different arrays meant to behave as an image of a stern light. \n",
    "    The color of stern lights is white, so this is fairly straight forward with a bunch of zeros.\n",
    "    \"\"\"\n",
    "    min_pixel_bound = 50\n",
    "    max_pixel_bound = 200\n",
    "    total_gens = np.random.randint(500, 701)\n",
    "    all_stern_images = np.empty([total_gens, 195075], dtype=np.uint8)\n",
    "    for i in range(total_gens):\n",
    "        light_width = np.random.randint(10, 51)\n",
    "        start_x = np.random.randint(min_pixel_bound, max_pixel_bound)\n",
    "        start_y = np.random.randint(min_pixel_bound, max_pixel_bound)\n",
    "        new_array = np.zeros((255, 255, 3))\n",
    "        aggregate_horiz = start_x + light_width\n",
    "        aggregate_vert = start_y + light_width\n",
    "        new_array[start_x:aggregate_horiz, start_y:aggregate_vert] = (255, 255, 255)\n",
    "        # import pdb; pdb.set_trace()\n",
    "        new_array = new_array.flatten()\n",
    "        all_stern_images[i] = new_array\n",
    "\n",
    "    return all_stern_images\n"
   ]
  },
  {
   "cell_type": "code",
   "execution_count": 15,
   "metadata": {},
   "outputs": [],
   "source": [
    "stern_images = stern_light_array_generator()"
   ]
  },
  {
   "cell_type": "code",
   "execution_count": 16,
   "metadata": {},
   "outputs": [
    {
     "data": {
      "text/plain": [
       "195075"
      ]
     },
     "execution_count": 16,
     "metadata": {},
     "output_type": "execute_result"
    }
   ],
   "source": [
    "len(stern_images[402])"
   ]
  },
  {
   "cell_type": "code",
   "execution_count": 29,
   "metadata": {
    "scrolled": true
   },
   "outputs": [
    {
     "data": {
      "image/png": "[encoded data removed]",
      "text/plain": [
       "<matplotlib.figure.Figure at 0x20597115908>"
      ]
     },
     "metadata": {},
     "output_type": "display_data"
    }
   ],
   "source": [
    "plt.imshow(stern_images[33].reshape(255, 255, 3))\n",
    "plt.show();"
   ]
  },
  {
   "cell_type": "code",
   "execution_count": 70,
   "metadata": {
    "collapsed": true
   },
   "outputs": [],
   "source": [
    "def broad_greater_than_50_meters_starboard():\n",
    "    \"\"\"\n",
    "    Return a numpy array of randomly generated images of a \n",
    "    power driven vessel that has two masthead lights and one running light\n",
    "    visible.\n",
    "    \"\"\"\n",
    "    white = (255, 255, 255)\n",
    "    black = (0, 0, 0)\n",
    "    green = (0, 255, 0)\n",
    "    total_gens = np.random.randint(500, 701)\n",
    "    all_broad_images = np.empty([total_gens, 195075], dtype=np.uint8)\n",
    "    for i in range(total_gens):\n",
    "        new_array = np.zeros((255, 255, 3))\n",
    "        taller_masthead_light = np.random.randint(50, 126)\n",
    "        shorter_masthead_light = np.random.randint(130, 186)\n",
    "        distance_bw_left_endpoint = np.random.randint(20, 126)\n",
    "        distance_bw_right_endpoint = np.random.randint(125, 211)\n",
    "        running_light_diff = np.random.randint(10, 31)\n",
    "        light_width = np.random.randint(10, 16)\n",
    "        tall_masthead_height = taller_masthead_light + light_width\n",
    "        tall_masthead_width = distance_bw_left_endpoint + light_width\n",
    "        short_masthead_height = shorter_masthead_light + light_width\n",
    "        short_masthead_width = distance_bw_right_endpoint + light_width\n",
    "        running_light_start = shorter_masthead_light + running_light_diff\n",
    "        running_light_width = running_light_start + light_width\n",
    "        if distance_bw_right_endpoint - distance_bw_left_endpoint < 2 * light_width:\n",
    "            running_light_loc = np.random.randint(distance_bw_left_endpoint - 20, distance_bw_left_endpoint + 21)\n",
    "        else:\n",
    "            running_light_loc = np.random.randint(distance_bw_left_endpoint, distance_bw_right_endpoint)\n",
    "        running_light_area = running_light_loc + light_width\n",
    "        new_array[taller_masthead_light:tall_masthead_height, distance_bw_left_endpoint:tall_masthead_width] = white\n",
    "        new_array[shorter_masthead_light:short_masthead_height, distance_bw_right_endpoint:short_masthead_width] = white\n",
    "        new_array[running_light_start:running_light_width, running_light_loc: running_light_area] = green\n",
    "        new_array = new_array.flatten()\n",
    "        all_broad_images[i] = new_array\n",
    "\n",
    "    return all_broad_images"
   ]
  },
  {
   "cell_type": "code",
   "execution_count": 71,
   "metadata": {
    "collapsed": true
   },
   "outputs": [],
   "source": [
    "broad_images = broad_greater_than_50_meters()"
   ]
  },
  {
   "cell_type": "code",
   "execution_count": 72,
   "metadata": {},
   "outputs": [
    {
     "data": {
      "image/png": "[encoded data removed]",
      "text/plain": [
       "<matplotlib.figure.Figure at 0x205b466dda0>"
      ]
     },
     "metadata": {},
     "output_type": "display_data"
    }
   ],
   "source": [
    "plt.imshow(broad_images[519].reshape(255, 255, 3))\n",
    "plt.show();"
   ]
  },
  {
   "cell_type": "code",
   "execution_count": 73,
   "metadata": {
    "collapsed": true
   },
   "outputs": [],
   "source": [
    "def broad_greater_than_50_meters_port():\n",
    "    \"\"\"\n",
    "    Return a numpy array of randomly generated images of a \n",
    "    power driven vessel that has two masthead lights and one running light\n",
    "    visible.\n",
    "    \"\"\"\n",
    "    white = (255, 255, 255)\n",
    "    black = (0, 0, 0)\n",
    "    red = (255, 0, 0)\n",
    "    total_gens = np.random.randint(500, 701)\n",
    "    all_broad_images = np.empty([total_gens, 195075], dtype=np.uint8)\n",
    "    for i in range(total_gens):\n",
    "        new_array = np.zeros((255, 255, 3))\n",
    "        taller_masthead_light = np.random.randint(50, 126)\n",
    "        shorter_masthead_light = np.random.randint(130, 186)\n",
    "        distance_bw_left_endpoint = np.random.randint(20, 126)\n",
    "        distance_bw_right_endpoint = np.random.randint(125, 211)\n",
    "        running_light_diff = np.random.randint(10, 31)\n",
    "        light_width = np.random.randint(10, 16)\n",
    "        tall_masthead_height = taller_masthead_light + light_width\n",
    "        tall_masthead_width = distance_bw_right_endpoint + light_width\n",
    "        short_masthead_height = shorter_masthead_light + light_width\n",
    "        short_masthead_width = distance_bw_left_endpoint + light_width\n",
    "        running_light_start = shorter_masthead_light + running_light_diff\n",
    "        running_light_width = running_light_start + light_width\n",
    "        if distance_bw_right_endpoint - distance_bw_left_endpoint < 2 * light_width:\n",
    "            running_light_loc = np.random.randint(distance_bw_right_endpoint - 20, distance_bw_right_endpoint + 21)\n",
    "        else:\n",
    "            running_light_loc = np.random.randint(distance_bw_left_endpoint, distance_bw_right_endpoint)\n",
    "        running_light_area = running_light_loc + light_width\n",
    "        new_array[taller_masthead_light:tall_masthead_height, distance_bw_right_endpoint:tall_masthead_width] = white\n",
    "        new_array[shorter_masthead_light:short_masthead_height, distance_bw_left_endpoint:short_masthead_width] = white\n",
    "        new_array[running_light_start:running_light_width, running_light_loc: running_light_area] = red\n",
    "        new_array = new_array.flatten()\n",
    "        all_broad_images[i] = new_array\n",
    "\n",
    "    return all_broad_images"
   ]
  },
  {
   "cell_type": "code",
   "execution_count": 74,
   "metadata": {},
   "outputs": [],
   "source": [
    "starboard_broad_images = broad_images\n",
    "port_broad_images = broad_greater_than_50_meters_port()"
   ]
  },
  {
   "cell_type": "code",
   "execution_count": 75,
   "metadata": {},
   "outputs": [
    {
     "data": {
      "image/png": "[encoded data removed]",
      "text/plain": [
       "<matplotlib.figure.Figure at 0x2058eede860>"
      ]
     },
     "metadata": {},
     "output_type": "display_data"
    }
   ],
   "source": [
    "plt.imshow(port_broad_images[8].reshape(255, 255, 3))\n",
    "plt.show();"
   ]
  },
  {
   "cell_type": "code",
   "execution_count": 95,
   "metadata": {
    "collapsed": true
   },
   "outputs": [],
   "source": [
    "def bow_lights_gt_50m():\n",
    "    \"\"\"\n",
    "    Generate light configuration as if you were looking at a ship's bow.\n",
    "    \"\"\"\n",
    "    white = (255, 255, 255)\n",
    "    black = (0, 0, 0)\n",
    "    red = (255, 0, 0)\n",
    "    green = (0, 255, 0)\n",
    "    total_gens = np.random.randint(500, 701)\n",
    "    all_bow_images = np.empty([total_gens, 195075], dtype=np.uint8)\n",
    "    for i in range(total_gens):\n",
    "        new_array = np.zeros((255, 255, 3))\n",
    "        light_width = np.random.randint(10, 16)\n",
    "        center_horiz = np.random.randint(75, 176)\n",
    "        taller_masthead_light = np.random.randint(25, 126)\n",
    "        tall_mh_height = taller_masthead_light + light_width\n",
    "        shorter_masthead_light = np.random.randint(tall_mh_height + 2, tall_mh_height + 16)\n",
    "        short_mast_head_height = shorter_masthead_light + light_width\n",
    "        center_for_runs = light_width // 2\n",
    "        running_light_dist_horiz = np.random.randint(15, 56)\n",
    "        running_light_dist_vert = np.random.randint(short_mast_head_height, short_mast_head_height + 51)\n",
    "        new_array[taller_masthead_light:tall_mh_height, center_horiz: center_horiz + light_width] = white\n",
    "        new_array[shorter_masthead_light:short_mast_head_height, center_horiz: center_horiz + light_width] = white\n",
    "        left_running_light = center_horiz + center_for_runs - running_light_dist_horiz - light_width\n",
    "        new_array[running_light_dist_vert: running_light_dist_vert + light_width, left_running_light: left_running_light + light_width] = red\n",
    "        right_running_light = center_horiz + center_for_runs + running_light_dist_horiz\n",
    "        new_array[running_light_dist_vert: running_light_dist_vert + light_width, right_running_light: right_running_light + light_width] = green\n",
    "        new_array = new_array.flatten()\n",
    "        all_bow_images[i] = new_array\n",
    "    \n",
    "    return all_bow_images"
   ]
  },
  {
   "cell_type": "code",
   "execution_count": 96,
   "metadata": {
    "collapsed": true
   },
   "outputs": [],
   "source": [
    "bow_images = bow_lights_gt_50m()"
   ]
  },
  {
   "cell_type": "code",
   "execution_count": 101,
   "metadata": {},
   "outputs": [
    {
     "data": {
      "image/png": "[encoded data removed]",
      "text/plain": [
       "<matplotlib.figure.Figure at 0x205b3e1a0b8>"
      ]
     },
     "metadata": {},
     "output_type": "display_data"
    }
   ],
   "source": [
    "plt.imshow(bow_images[190].reshape(255, 255, 3))\n",
    "plt.show();"
   ]
  },
  {
   "cell_type": "code",
   "execution_count": null,
   "metadata": {
    "collapsed": true
   },
   "outputs": [],
   "source": []
  }
 ],
 "metadata": {
  "kernelspec": {
   "display_name": "Python 3",
   "language": "python",
   "name": "python3"
  },
  "language_info": {
   "codemirror_mode": {
    "name": "ipython",
    "version": 3
   },
   "file_extension": ".py",
   "mimetype": "text/x-python",
   "name": "python",
   "nbconvert_exporter": "python",
   "pygments_lexer": "ipython3",
   "version": "3.6.3"
  }
 },
 "nbformat": 4,
 "nbformat_minor": 2
}
